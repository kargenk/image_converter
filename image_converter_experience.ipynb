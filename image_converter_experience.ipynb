{
 "cells": [
  {
   "cell_type": "code",
   "execution_count": 1,
   "metadata": {},
   "outputs": [],
   "source": [
    "#!/usr/bin/env python3\n",
    "# -*- coding: utf-8 -*-"
   ]
  },
  {
   "cell_type": "code",
   "execution_count": 2,
   "metadata": {},
   "outputs": [
    {
     "name": "stdout",
     "output_type": "stream",
     "text": [
      "3.6.8 (default, Oct  7 2019, 12:59:55) \n",
      "[GCC 8.3.0]\n"
     ]
    }
   ],
   "source": [
    "import sys\n",
    "import cv2\n",
    "import numpy as np\n",
    "\n",
    "import simple_csi_camera as csi\n",
    "\n",
    "print(sys.version)"
   ]
  },
  {
   "cell_type": "code",
   "execution_count": 3,
   "metadata": {},
   "outputs": [
    {
     "name": "stdout",
     "output_type": "stream",
     "text": [
      "crw-rw----+ 1 root video 81, 0 Nov 10 23:59 /dev/video0\r\n"
     ]
    }
   ],
   "source": [
    "# check to see if camera is available\n",
    "!ls -ltrh /dev/video*"
   ]
  },
  {
   "cell_type": "code",
   "execution_count": 4,
   "metadata": {},
   "outputs": [],
   "source": [
    "def laplacian_edge(img):\n",
    "    \"\"\"\n",
    "    return laplacian image\n",
    "    \"\"\"\n",
    "    \n",
    "    gray = cv2.cvtColor(img, cv2.COLOR_BGR2GRAY)\n",
    "    laplacian = cv2.Laplacian(gray, cv2.CV_64F)\n",
    "    return laplacian"
   ]
  },
  {
   "cell_type": "code",
   "execution_count": 5,
   "metadata": {},
   "outputs": [],
   "source": [
    "def canny_edge(img):\n",
    "    \"\"\"\n",
    "    return canny edge image\n",
    "    \"\"\"\n",
    "    \n",
    "    gray = cv2.cvtColor(img, cv2.COLOR_BGR2GRAY)\n",
    "    canny = cv2.Canny(gray, 100, 150)\n",
    "    return canny"
   ]
  },
  {
   "cell_type": "code",
   "execution_count": 6,
   "metadata": {},
   "outputs": [],
   "source": [
    "def detect_face(img):\n",
    "    \"\"\"\n",
    "    return face detect image with Haar-cascade\n",
    "    \"\"\"\n",
    "    \n",
    "    # read default haarcascade features\n",
    "    face_cascade = cv2.CascadeClassifier('./data/haarcascade_frontalface_default.xml')\n",
    "    eye_cascade = cv2.CascadeClassifier('./data/haarcascade_eye.xml')\n",
    "    \n",
    "    gray = cv2.cvtColor(img, cv2.COLOR_BGR2GRAY)\n",
    "    \n",
    "    # face detection\n",
    "    faces = face_cascade.detectMultiScale(gray, 1.3, 5)\n",
    "    for (x, y, w, h) in faces:\n",
    "        detected_face = cv2.rectangle(img, (x, y),(x+w, y+h), (255, 0, 0), 2)\n",
    "        \n",
    "        # region of interest\n",
    "        roi_gray = gray[y:y+h, x:x+w]\n",
    "        roi_color = detected_face[y:y+h, x:x+w]\n",
    "        \n",
    "        # eyes detection\n",
    "        eyes = eye_cascade.detectMultiScale(roi_gray)\n",
    "        for (ex, ey, ew, eh) in eyes:\n",
    "            cv2.rectangle(roi_color, (ex, ey), (ex+ew, ey+eh), (0, 255, 0), 2)\n",
    "        \n",
    "#         return detected_face"
   ]
  },
  {
   "cell_type": "code",
   "execution_count": 7,
   "metadata": {},
   "outputs": [],
   "source": [
    "def show_converted_camera(face_detection=False):\n",
    "    print(csi.gstreamer_pipeline(flip_method=0))\n",
    "    \n",
    "    # load from CSI Camera(raspi camera v2)\n",
    "    cap = cv2.VideoCapture(csi.gstreamer_pipeline(flip_method=0),\n",
    "                           cv2.CAP_GSTREAMER)\n",
    "    \n",
    "    # check camera normally\n",
    "    if cap.isOpened():\n",
    "        window_handle = cv2.namedWindow('CSI Camera', cv2.WINDOW_AUTOSIZE)  # window setting\n",
    "        \n",
    "        # when window closed: return -1\n",
    "        while cv2.getWindowProperty('CSI Camera', 0) >= 0:\n",
    "            ret_val, frame = cap.read()\n",
    "            \n",
    "            # processing\n",
    "            if face_detection:\n",
    "                detect_face(frame)\n",
    "                window_face = cv2.namedWindow('CSI Camera - Face detection', cv2.WINDOW_AUTOSIZE)\n",
    "                cv2.imshow('CSI Camera - Face detection', frame)\n",
    "            \n",
    "            img = canny_edge(frame)\n",
    "            cv2.imshow('CSI Camera', img)\n",
    "            \n",
    "            key_code = cv2.waitKey(30) & 0xFF\n",
    "            \n",
    "            # Stop program with ESC key\n",
    "            if key_code == 27:\n",
    "                break\n",
    "        \n",
    "        # Freeing camera object\n",
    "        cap.release()\n",
    "        cv2.destroyAllWindows()\n",
    "    \n",
    "    else:\n",
    "        print('Unable to open camera')"
   ]
  },
  {
   "cell_type": "code",
   "execution_count": 8,
   "metadata": {},
   "outputs": [
    {
     "name": "stdout",
     "output_type": "stream",
     "text": [
      "nvarguscamerasrc ! video/x-raw(memory:NVMM), width=(int)1280, height=(int)720, format=(string)NV12, framerate=(fraction)60/1 ! nvvidconv flip-method=0 ! video/x-raw, width=(int)1280, height=(int)720, format=(string)BGRx ! videoconvert ! video/x-raw, format=(string)BGR ! appsink\n"
     ]
    }
   ],
   "source": [
    "show_converted_camera(face_detection=True)"
   ]
  },
  {
   "cell_type": "code",
   "execution_count": null,
   "metadata": {},
   "outputs": [],
   "source": []
  }
 ],
 "metadata": {
  "kernelspec": {
   "display_name": "Python 3",
   "language": "python",
   "name": "python3"
  },
  "language_info": {
   "codemirror_mode": {
    "name": "ipython",
    "version": 3
   },
   "file_extension": ".py",
   "mimetype": "text/x-python",
   "name": "python",
   "nbconvert_exporter": "python",
   "pygments_lexer": "ipython3",
   "version": "3.6.8"
  }
 },
 "nbformat": 4,
 "nbformat_minor": 2
}
