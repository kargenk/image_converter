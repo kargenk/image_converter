{
 "cells": [
  {
   "cell_type": "code",
   "execution_count": 1,
   "metadata": {},
   "outputs": [],
   "source": [
    "#!/usr/bin/env python3\n",
    "# -*- coding: utf-8 -*-"
   ]
  },
  {
   "cell_type": "code",
   "execution_count": 2,
   "metadata": {},
   "outputs": [
    {
     "name": "stdout",
     "output_type": "stream",
     "text": [
      "crw-rw----+ 1 root video 81, 0 Nov 10 23:59 /dev/video0\r\n"
     ]
    }
   ],
   "source": [
    "# check to see if camera is available\n",
    "!ls -ltrh /dev/video*"
   ]
  },
  {
   "cell_type": "code",
   "execution_count": 3,
   "metadata": {},
   "outputs": [],
   "source": [
    "import cv2"
   ]
  },
  {
   "cell_type": "code",
   "execution_count": 4,
   "metadata": {},
   "outputs": [],
   "source": [
    "def gstreamer_pipeline(capture_width=1280,\n",
    "                       capture_height=720,\n",
    "                       display_width=1280,\n",
    "                       display_height=720,\n",
    "                       framerate=60,\n",
    "                       flip_method=0):\n",
    "    \"\"\"\n",
    "    returns a GStreamer pipeline for capturing from the CSI camera\n",
    "    Defaults to 1280x720 @ 60fps\n",
    "    \"\"\"\n",
    "    \n",
    "    return (\n",
    "        'nvarguscamerasrc ! '\n",
    "        'video/x-raw(memory:NVMM), '\n",
    "        'width=(int)%d, height=(int)%d, '\n",
    "        'format=(string)NV12, framerate=(fraction)%d/1 ! '\n",
    "        'nvvidconv flip-method=%d ! '\n",
    "        'video/x-raw, width=(int)%d, height=(int)%d, format=(string)BGRx ! '\n",
    "        'videoconvert ! '\n",
    "        'video/x-raw, format=(string)BGR ! appsink'\n",
    "        % (\n",
    "            capture_width,\n",
    "            capture_height,\n",
    "            framerate,\n",
    "            flip_method,\n",
    "            display_width,\n",
    "            display_height,\n",
    "        ))"
   ]
  },
  {
   "cell_type": "code",
   "execution_count": 5,
   "metadata": {},
   "outputs": [],
   "source": [
    "def show_camera():\n",
    "    print(gstreamer_pipeline(flip_method=0))\n",
    "    \n",
    "    # load from CSI Camera(raspi camera v2)\n",
    "    cap = cv2.VideoCapture(gstreamer_pipeline(flip_method=0),\n",
    "                           cv2.CAP_GSTREAMER)\n",
    "    \n",
    "    # check camera normally\n",
    "    if cap.isOpened():\n",
    "        window_handle = cv2.namedWindow('CSI Camera', cv2.WINDOW_AUTOSIZE)  # window setting\n",
    "        \n",
    "        # when window closed: return -1\n",
    "        while cv2.getWindowProperty('CSI Camera', 0) >= 0:\n",
    "            ret_val, img = cap.read()\n",
    "            cv2.imshow('CSI Camera', img)\n",
    "            key_code = cv2.waitKey(30) & 0xFF\n",
    "            \n",
    "            # Stop program with ESC key\n",
    "            if key_code == 27:\n",
    "                break\n",
    "        \n",
    "        # Freeing camera object\n",
    "        cap.release()\n",
    "        cv2.destroyAllWindows()\n",
    "    \n",
    "    else:\n",
    "        print('Unable to open camera')"
   ]
  },
  {
   "cell_type": "code",
   "execution_count": 6,
   "metadata": {},
   "outputs": [
    {
     "name": "stdout",
     "output_type": "stream",
     "text": [
      "nvarguscamerasrc ! video/x-raw(memory:NVMM), width=(int)1280, height=(int)720, format=(string)NV12, framerate=(fraction)60/1 ! nvvidconv flip-method=0 ! video/x-raw, width=(int)1280, height=(int)720, format=(string)BGRx ! videoconvert ! video/x-raw, format=(string)BGR ! appsink\n"
     ]
    }
   ],
   "source": [
    "show_camera()"
   ]
  },
  {
   "cell_type": "code",
   "execution_count": null,
   "metadata": {},
   "outputs": [],
   "source": []
  }
 ],
 "metadata": {
  "kernelspec": {
   "display_name": "Python 3",
   "language": "python",
   "name": "python3"
  },
  "language_info": {
   "codemirror_mode": {
    "name": "ipython",
    "version": 3
   },
   "file_extension": ".py",
   "mimetype": "text/x-python",
   "name": "python",
   "nbconvert_exporter": "python",
   "pygments_lexer": "ipython3",
   "version": "3.6.8"
  }
 },
 "nbformat": 4,
 "nbformat_minor": 2
}
